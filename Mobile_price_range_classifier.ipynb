{
 "cells": [
  {
   "cell_type": "markdown",
   "id": "9ebc4395",
   "metadata": {},
   "source": [
    "# This is a mobile price range classifier project which is a part of *mentorness* internship program for machine learning \n",
    "\n",
    "-----------------------------------------------------------------------------\n",
    "\n",
    "A special thanks for [Mentorness](https://www.linkedin.com/company/mentorness/) for providing this opportunity and experiences that come with it !\n",
    "\n"
   ]
  },
  {
   "cell_type": "markdown",
   "id": "84d9a873",
   "metadata": {},
   "source": [
    "**Problem Statement**:\n",
    "\n",
    ">The task is to build a predictive model that can accurately classify mobile phones into predefined price\n",
    "ranges based on various attributes such as battery power, camera features, memory, connectivity options,\n",
    "and more. The dataset provided contains information about several mobile phones, including their\n",
    "specifications and corresponding price ranges.\n",
    "\n",
    "**Dataset Description**:\n",
    "\n",
    ">The dataset comprises the following columns:\n",
    "\n",
    "> battery_power: Total energy a battery can store in mAh.\n",
    "\n",
    "> blue: Bluetooth enabled (1 if yes, 0 if no).\n",
    "\n",
    "> clock_speed: Speed at which microprocessor executes instructions.\n",
    "\n",
    "> dual_sim: Dual SIM support (1 if yes, 0 if no).\n",
    "\n",
    "> fc: Front Camera mega pixels.\n",
    "\n",
    "> four_g: 4G network support (1 if yes, 0 if no).\n",
    "\n",
    "> int_memory: Internal Memory (in gigabytes).\n",
    "\n",
    "> m_dep: Mobile Depth in cm.\n",
    "\n",
    "> mobile_wt: Weight of mobile phone.\n",
    "\n",
    "> n_cores: Number of cores of the processor.\n",
    "\n",
    "> pc: Primary Camera mega pixels.\n",
    "\n",
    "> px_height: Pixel Resolution Height.\n",
    "\n",
    "> px_width: Pixel Resolution Width.\n",
    "\n",
    "> ram: Random Access Memory in megabytes.\n",
    "\n",
    "> sc_h: Screen Height of mobile in cm.\n",
    "\n",
    "> sc_w: Screen Width of mobile in cm.\n",
    "\n",
    "> talk_time: Longest time that a single battery charge will last when you are talking.\n",
    "\n",
    "> three_g: 3G network support (1 if yes, 0 if no).\n",
    "\n",
    "> touch_screen: Touch screen support (1 if yes, 0 if no).\n",
    "\n",
    "> wifi: Wifi connectivity (1 if yes, 0 if no).\n",
    "\n",
    "> price_range: Price range of the mobile phone (0 - low cost, 1 - medium cost, 2 - high cost, 3 -\n",
    "very high cost)."
   ]
  },
  {
   "cell_type": "markdown",
   "id": "b3ee987f",
   "metadata": {},
   "source": [
    "<div class=\"alert alert-block alert-info\">\n",
    "<b>Objectives:</b>\n",
    "<ol>\n",
    "    <li>Exploration and Data Cleaning</li>\n",
    "    <li>EDA for insights, relationships, and associations</li>\n",
    "    <li>Selection of a suitable classification machine learning algorithm + performance evaluation</li>\n",
    "    <li>Fine tuning the model for accuracy improvement</li>\n",
    "    <li>Final Model Validation</li>\n",
    "</ol>\n",
    "<b>Deliverables:</b>\n",
    "<ul>\n",
    "    <li>Jupyter Notebook or Python script containing the code implementation.</li>\n",
    "    <li>Documentation detailing the step-by-step process, including data preprocessing, model selection, evaluation metrics, and results interpretation.</li>\n",
    "    <li>Visualization of key findings from EDA.</li>\n",
    "    <li>Trained machine learning model for mobile price classification.</li>\n",
    "    <li>Deployment instructions (if applicable).</li>\n",
    "</ul>\n",
    "</div>\n"
   ]
  },
  {
   "cell_type": "code",
   "execution_count": null,
   "id": "0b9b07ab",
   "metadata": {},
   "outputs": [],
   "source": []
  },
  {
   "cell_type": "code",
   "execution_count": null,
   "id": "2ef0ab83",
   "metadata": {},
   "outputs": [],
   "source": []
  },
  {
   "cell_type": "code",
   "execution_count": null,
   "id": "f430ed8b",
   "metadata": {},
   "outputs": [],
   "source": []
  },
  {
   "cell_type": "code",
   "execution_count": null,
   "id": "16d23878",
   "metadata": {},
   "outputs": [],
   "source": []
  },
  {
   "cell_type": "code",
   "execution_count": null,
   "id": "b48bb1c4",
   "metadata": {},
   "outputs": [],
   "source": []
  },
  {
   "cell_type": "code",
   "execution_count": null,
   "id": "ced78e1f",
   "metadata": {},
   "outputs": [],
   "source": []
  }
 ],
 "metadata": {
  "kernelspec": {
   "display_name": "Python 3 (ipykernel)",
   "language": "python",
   "name": "python3"
  },
  "language_info": {
   "codemirror_mode": {
    "name": "ipython",
    "version": 3
   },
   "file_extension": ".py",
   "mimetype": "text/x-python",
   "name": "python",
   "nbconvert_exporter": "python",
   "pygments_lexer": "ipython3",
   "version": "3.11.5"
  }
 },
 "nbformat": 4,
 "nbformat_minor": 5
}
